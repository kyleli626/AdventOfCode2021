{
 "cells": [
  {
   "cell_type": "code",
   "execution_count": 78,
   "metadata": {},
   "outputs": [],
   "source": [
    "with open(\"input.txt\") as f:\n",
    "    lines = f.readlines()\n",
    "    lines = [i.strip('\\n') for i in lines]"
   ]
  },
  {
   "cell_type": "code",
   "execution_count": 79,
   "metadata": {},
   "outputs": [],
   "source": [
    "start = []\n",
    "end = []\n",
    "maxx = 0\n",
    "maxy = 0\n",
    "for line in lines:\n",
    "    l = [int(i) for i in line.replace(\" -> \",\",\").split(\",\")]\n",
    "    start.append((l[0],l[1]))\n",
    "    end.append((l[2],l[3]))\n",
    "    if maxx < max(l[0],l[2]):\n",
    "        maxx = max(l[0],l[2])\n",
    "    if maxy < max(l[1],l[3]):\n",
    "        maxy = max(l[1],l[3])"
   ]
  },
  {
   "cell_type": "code",
   "execution_count": 80,
   "metadata": {},
   "outputs": [],
   "source": [
    "mat = [[0 for a in range(maxy+1)] for b in range(maxx+1)]\n",
    "for i in range(len(start)):\n",
    "    if start[i][0] == end[i][0]:\n",
    "        for j in range(min(start[i][1], end[i][1]),max(start[i][1], end[i][1])+1):\n",
    "            mat[start[i][0]][j] += 1\n",
    "    elif start[i][1] == end[i][1]:\n",
    "        for j in range(min(start[i][0], end[i][0]),max(start[i][0], end[i][0])+1):\n",
    "            mat[j][start[i][1]] += 1\n",
    "    elif start[i][0] - end[i][0] == start[i][1] - end[i][1]:\n",
    "        for j in range(abs(start[i][0] - end[i][0])+1):\n",
    "            mat[min(start[i][0], end[i][0]) + j][min(start[i][1], end[i][1]) + j] +=1\n",
    "    else: \n",
    "        mult = 1\n",
    "        if start[i][0] - end[i][0] > 0:\n",
    "            mult = -1\n",
    "        for j in range(abs(start[i][0] - end[i][0])+1):\n",
    "            mat[start[i][0]+ mult*j][start[i][1] - mult*j] +=1\n"
   ]
  },
  {
   "cell_type": "code",
   "execution_count": 81,
   "metadata": {},
   "outputs": [
    {
     "name": "stdout",
     "output_type": "stream",
     "text": [
      "19929\n"
     ]
    }
   ],
   "source": [
    "print(sum([mat[x][y] > 1 for x in range(maxx+1) for y in range(maxy+1)]))"
   ]
  },
  {
   "cell_type": "code",
   "execution_count": null,
   "metadata": {},
   "outputs": [],
   "source": []
  }
 ],
 "metadata": {
  "interpreter": {
   "hash": "63fd5069d213b44bf678585dea6b12cceca9941eaf7f819626cde1f2670de90d"
  },
  "kernelspec": {
   "display_name": "Python 3.9.0 64-bit",
   "language": "python",
   "name": "python3"
  },
  "language_info": {
   "codemirror_mode": {
    "name": "ipython",
    "version": 3
   },
   "file_extension": ".py",
   "mimetype": "text/x-python",
   "name": "python",
   "nbconvert_exporter": "python",
   "pygments_lexer": "ipython3",
   "version": "3.9.0"
  },
  "orig_nbformat": 4
 },
 "nbformat": 4,
 "nbformat_minor": 2
}

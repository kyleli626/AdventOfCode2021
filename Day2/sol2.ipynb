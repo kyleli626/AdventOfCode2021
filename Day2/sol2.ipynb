{
 "cells": [
  {
   "cell_type": "code",
   "execution_count": 1,
   "metadata": {},
   "outputs": [],
   "source": [
    "with open(\"input.txt\") as f:\n",
    "    lines = f.readlines()\n",
    "    lines = [i.strip('\\n') for i in lines]"
   ]
  },
  {
   "cell_type": "code",
   "execution_count": 4,
   "metadata": {},
   "outputs": [
    {
     "name": "stdout",
     "output_type": "stream",
     "text": [
      "2215080\n"
     ]
    }
   ],
   "source": [
    "x = 0\n",
    "y = 0\n",
    "for line in lines:\n",
    "    dir, val = line.split()\n",
    "    if dir == \"forward\":\n",
    "        x += int(val)\n",
    "    elif dir == \"down\":\n",
    "        y += int(val)\n",
    "    elif dir == \"up\":\n",
    "        y -= int(val)\n",
    "print(x*y)"
   ]
  },
  {
   "cell_type": "code",
   "execution_count": 6,
   "metadata": {},
   "outputs": [
    {
     "name": "stdout",
     "output_type": "stream",
     "text": [
      "1864715580\n"
     ]
    }
   ],
   "source": [
    "x = 0\n",
    "y = 0\n",
    "aim = 0\n",
    "for line in lines:\n",
    "    dir, val = line.split()\n",
    "    if dir == \"forward\":\n",
    "        x += int(val)\n",
    "        y += aim*int(val)\n",
    "    elif dir == \"down\":\n",
    "        aim += int(val)\n",
    "    elif dir == \"up\":\n",
    "        aim -= int(val)\n",
    "print(x*y)"
   ]
  },
  {
   "cell_type": "code",
   "execution_count": null,
   "metadata": {},
   "outputs": [],
   "source": []
  }
 ],
 "metadata": {
  "interpreter": {
   "hash": "63fd5069d213b44bf678585dea6b12cceca9941eaf7f819626cde1f2670de90d"
  },
  "kernelspec": {
   "display_name": "Python 3.9.0 64-bit",
   "language": "python",
   "name": "python3"
  },
  "language_info": {
   "codemirror_mode": {
    "name": "ipython",
    "version": 3
   },
   "file_extension": ".py",
   "mimetype": "text/x-python",
   "name": "python",
   "nbconvert_exporter": "python",
   "pygments_lexer": "ipython3",
   "version": "3.9.0"
  },
  "orig_nbformat": 4
 },
 "nbformat": 4,
 "nbformat_minor": 2
}

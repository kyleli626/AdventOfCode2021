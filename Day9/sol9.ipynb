{
 "cells": [
  {
   "cell_type": "code",
   "execution_count": 61,
   "metadata": {},
   "outputs": [],
   "source": [
    "import heapq"
   ]
  },
  {
   "cell_type": "code",
   "execution_count": 62,
   "metadata": {},
   "outputs": [],
   "source": [
    "with open(\"input.txt\") as f:\n",
    "    lines = f.readlines()\n",
    "    lines = [i.strip('\\n') for i in lines]"
   ]
  },
  {
   "cell_type": "code",
   "execution_count": 63,
   "metadata": {},
   "outputs": [],
   "source": [
    "heights = [[11]*(len(lines[0])+2)]\n",
    "for line in lines:\n",
    "    newl = [11]\n",
    "    for char in line:\n",
    "        newl.append(int(char))\n",
    "    newl.append(11)\n",
    "    heights.append(newl)\n",
    "heights.append([11]*(len(lines[0])+1))"
   ]
  },
  {
   "cell_type": "code",
   "execution_count": 64,
   "metadata": {},
   "outputs": [],
   "source": [
    "lowpoints = 0\n",
    "for i in range(1,len(heights)-1):\n",
    "    for j in range(1,len(heights[0])-1):\n",
    "        if heights[i][j] < heights[i+1][j] and heights[i][j] < heights[i-1][j] and \\\n",
    "            heights[i][j] < heights[i][j+1] and heights[i][j] < heights[i][j-1]:\n",
    "            lowpoints += heights[i][j]+1"
   ]
  },
  {
   "cell_type": "code",
   "execution_count": 65,
   "metadata": {},
   "outputs": [
    {
     "data": {
      "text/plain": [
       "444"
      ]
     },
     "execution_count": 65,
     "metadata": {},
     "output_type": "execute_result"
    }
   ],
   "source": [
    "lowpoints"
   ]
  },
  {
   "cell_type": "code",
   "execution_count": 66,
   "metadata": {},
   "outputs": [],
   "source": [
    "visited = [[False for _ in heights[0]] for _ in heights]\n",
    "def spread(i,j):\n",
    "    if heights[i][j] in [9,11] or visited[i][j]:\n",
    "        return 0\n",
    "    visited[i][j] = True\n",
    "    return 1+spread(i+1,j) + spread(i-1,j) + spread(i,j-1) + spread(i,j+1)\n",
    "            "
   ]
  },
  {
   "cell_type": "code",
   "execution_count": 67,
   "metadata": {},
   "outputs": [
    {
     "data": {
      "text/plain": [
       "1168440"
      ]
     },
     "execution_count": 67,
     "metadata": {},
     "output_type": "execute_result"
    }
   ],
   "source": [
    "\n",
    "heap = []\n",
    "for i in range(1,len(heights)-1):\n",
    "    for j in range(1,len(heights[0])-1):\n",
    "        val = spread(i,j)\n",
    "        if len(heap) < 3:\n",
    "            heapq.heappush(heap,val)\n",
    "        else:\n",
    "            heapq.heappushpop(heap,val)\n",
    "heap[0]*heap[1]*heap[2]"
   ]
  }
 ],
 "metadata": {
  "interpreter": {
   "hash": "63fd5069d213b44bf678585dea6b12cceca9941eaf7f819626cde1f2670de90d"
  },
  "kernelspec": {
   "display_name": "Python 3.9.0 64-bit",
   "language": "python",
   "name": "python3"
  },
  "language_info": {
   "codemirror_mode": {
    "name": "ipython",
    "version": 3
   },
   "file_extension": ".py",
   "mimetype": "text/x-python",
   "name": "python",
   "nbconvert_exporter": "python",
   "pygments_lexer": "ipython3",
   "version": "3.9.0"
  },
  "orig_nbformat": 4
 },
 "nbformat": 4,
 "nbformat_minor": 2
}

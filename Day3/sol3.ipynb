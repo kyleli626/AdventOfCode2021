{
 "cells": [
  {
   "cell_type": "code",
   "execution_count": 78,
   "metadata": {},
   "outputs": [],
   "source": [
    "with open(\"input.txt\") as f:\n",
    "    lines = f.readlines()\n",
    "    lines = [i.strip('\\n') for i in lines]"
   ]
  },
  {
   "cell_type": "code",
   "execution_count": 79,
   "metadata": {},
   "outputs": [
    {
     "name": "stdout",
     "output_type": "stream",
     "text": [
      "2583164\n"
     ]
    }
   ],
   "source": [
    "l = len(lines[0])\n",
    "runningep = \"\"\n",
    "runninggam = \"\"\n",
    "for j in range(l):\n",
    "    sum = 0\n",
    "    for i in lines:\n",
    "        if i[j] == '1':\n",
    "            sum += 1\n",
    "    runningep += str(int(sum < len(lines)/2))\n",
    "    runninggam += str(int(sum > len(lines)/2))\n",
    "print(int(runningep,2)*int(runninggam,2))"
   ]
  },
  {
   "cell_type": "code",
   "execution_count": 84,
   "metadata": {},
   "outputs": [
    {
     "name": "stdout",
     "output_type": "stream",
     "text": [
      "825\n"
     ]
    }
   ],
   "source": [
    "l = len(lines[0])\n",
    "runningep = \"\"\n",
    "j = 0\n",
    "lines2 = list(lines)\n",
    "while len(lines2)!=1 and j < l:\n",
    "    sum = 0\n",
    "    remove = set()\n",
    "    for i in range(len(lines2)):\n",
    "        if runningep != lines2[i][:j]:\n",
    "            remove.add(i)\n",
    "        elif lines2[i][j] == '1':\n",
    "            sum += 1\n",
    "    lines2 = [lines2[i] for i in range(len(lines2)) if i not in remove]\n",
    "    runningep += str(int(sum >= len(lines2)/2))\n",
    "    j += 1\n",
    "if len(lines2) == 1:\n",
    "    oxy = int(lines2[0],2)\n",
    "else:\n",
    "    oxy = int(runningep,2)\n",
    "\n",
    "print(oxy)"
   ]
  },
  {
   "cell_type": "code",
   "execution_count": 85,
   "metadata": {},
   "outputs": [
    {
     "name": "stdout",
     "output_type": "stream",
     "text": [
      "3375\n"
     ]
    }
   ],
   "source": [
    "l = len(lines[0])\n",
    "runningep = \"\"\n",
    "j = 0\n",
    "lines2 = list(lines)\n",
    "while len(lines2)!=1 and j < l:\n",
    "    sum = 0\n",
    "    remove = set()\n",
    "    for i in range(len(lines2)):\n",
    "        if runningep != lines2[i][:j]:\n",
    "            remove.add(i)\n",
    "        elif lines2[i][j] == '1':\n",
    "            sum += 1\n",
    "    lines2 = [lines2[i] for i in range(len(lines2)) if i not in remove]\n",
    "    runningep += str(int(sum < len(lines2)/2))\n",
    "    j += 1\n",
    "if len(lines2) == 1:\n",
    "    co2 = int(lines2[0],2)\n",
    "else:\n",
    "    co2 = int(runningep,2)\n",
    "print(co2)"
   ]
  },
  {
   "cell_type": "code",
   "execution_count": 86,
   "metadata": {},
   "outputs": [
    {
     "data": {
      "text/plain": [
       "2784375"
      ]
     },
     "execution_count": 86,
     "metadata": {},
     "output_type": "execute_result"
    }
   ],
   "source": [
    "co2*oxy"
   ]
  },
  {
   "cell_type": "code",
   "execution_count": null,
   "metadata": {},
   "outputs": [],
   "source": []
  }
 ],
 "metadata": {
  "interpreter": {
   "hash": "63fd5069d213b44bf678585dea6b12cceca9941eaf7f819626cde1f2670de90d"
  },
  "kernelspec": {
   "display_name": "Python 3.9.0 64-bit",
   "language": "python",
   "name": "python3"
  },
  "language_info": {
   "codemirror_mode": {
    "name": "ipython",
    "version": 3
   },
   "file_extension": ".py",
   "mimetype": "text/x-python",
   "name": "python",
   "nbconvert_exporter": "python",
   "pygments_lexer": "ipython3",
   "version": "3.9.0"
  },
  "orig_nbformat": 4
 },
 "nbformat": 4,
 "nbformat_minor": 2
}

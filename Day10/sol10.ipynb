{
 "cells": [
  {
   "cell_type": "code",
   "execution_count": 34,
   "metadata": {},
   "outputs": [],
   "source": [
    "import collections"
   ]
  },
  {
   "cell_type": "code",
   "execution_count": 35,
   "metadata": {},
   "outputs": [],
   "source": [
    "with open(\"input.txt\") as f:\n",
    "    lines = f.readlines()\n",
    "    lines = [i.strip('\\n') for i in lines]"
   ]
  },
  {
   "cell_type": "code",
   "execution_count": 36,
   "metadata": {},
   "outputs": [
    {
     "data": {
      "text/plain": [
       "[136477818,\n",
       " 110285589,\n",
       " 663116493,\n",
       " 15223724222,\n",
       " 27284605232,\n",
       " 699849,\n",
       " 26307771121,\n",
       " 3362310289,\n",
       " 1118645287,\n",
       " 18723114,\n",
       " 1538889782,\n",
       " 16698336042,\n",
       " 181480161,\n",
       " 5686281094,\n",
       " 554202191,\n",
       " 146784,\n",
       " 26047885556,\n",
       " 365176497,\n",
       " 5784511199,\n",
       " 34960968,\n",
       " 1157696111,\n",
       " 20405334193,\n",
       " 31764213,\n",
       " 10103015193,\n",
       " 77468293,\n",
       " 16245059162,\n",
       " 10389263662,\n",
       " 140541816,\n",
       " 373443,\n",
       " 1061827331,\n",
       " 20408773622,\n",
       " 5320959312,\n",
       " 6436666,\n",
       " 4607934159,\n",
       " 1052732836,\n",
       " 29192947743,\n",
       " 5561693742,\n",
       " 8785287,\n",
       " 175600842,\n",
       " 2134264312,\n",
       " 374088968,\n",
       " 413629718,\n",
       " 3429559,\n",
       " 583870832,\n",
       " 2018358714,\n",
       " 5221744869,\n",
       " 5505192344,\n",
       " 1552867,\n",
       " 185130406,\n",
       " 5309556196,\n",
       " 4881508956]"
      ]
     },
     "execution_count": 36,
     "metadata": {},
     "output_type": "execute_result"
    }
   ],
   "source": [
    "scores = []\n",
    "match = {'{':'}', '[':']', '<':'>','(':')'}\n",
    "score = {'{':3, '[':2, '<':4,'(':1}\n",
    "for i in lines:\n",
    "    stack = collections.deque()\n",
    "    good = True\n",
    "    for char in i:\n",
    "        if char in ['(','[','{','<']:\n",
    "            stack.append(char)\n",
    "        elif match[stack.pop()] != char:\n",
    "            good = False\n",
    "            break\n",
    "    if good: \n",
    "        val = 0\n",
    "        while len(stack) != 0:\n",
    "            val*=5\n",
    "            val += score[stack.pop()]\n",
    "        scores.append(val)\n",
    "scores\n",
    "        "
   ]
  },
  {
   "cell_type": "code",
   "execution_count": 37,
   "metadata": {},
   "outputs": [
    {
     "data": {
      "text/plain": [
       "1118645287"
      ]
     },
     "execution_count": 37,
     "metadata": {},
     "output_type": "execute_result"
    }
   ],
   "source": [
    "import statistics\n",
    "statistics.median(scores)"
   ]
  },
  {
   "cell_type": "code",
   "execution_count": null,
   "metadata": {},
   "outputs": [],
   "source": []
  }
 ],
 "metadata": {
  "interpreter": {
   "hash": "63fd5069d213b44bf678585dea6b12cceca9941eaf7f819626cde1f2670de90d"
  },
  "kernelspec": {
   "display_name": "Python 3.9.0 64-bit",
   "language": "python",
   "name": "python3"
  },
  "language_info": {
   "codemirror_mode": {
    "name": "ipython",
    "version": 3
   },
   "file_extension": ".py",
   "mimetype": "text/x-python",
   "name": "python",
   "nbconvert_exporter": "python",
   "pygments_lexer": "ipython3",
   "version": "3.9.0"
  },
  "orig_nbformat": 4
 },
 "nbformat": 4,
 "nbformat_minor": 2
}

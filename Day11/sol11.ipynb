{
 "cells": [
  {
   "cell_type": "code",
   "execution_count": 167,
   "metadata": {},
   "outputs": [],
   "source": [
    "import collections"
   ]
  },
  {
   "cell_type": "code",
   "execution_count": 168,
   "metadata": {},
   "outputs": [],
   "source": [
    "with open(\"input.txt\") as f:\n",
    "    lines = f.readlines()\n",
    "    lines = [i.strip('\\n') for i in lines]"
   ]
  },
  {
   "cell_type": "code",
   "execution_count": 169,
   "metadata": {},
   "outputs": [],
   "source": [
    "heights = [[100]*(len(lines[0])+2)]\n",
    "for line in lines:\n",
    "    newl = [100]\n",
    "    for char in line:\n",
    "        newl.append(int(char))\n",
    "    newl.append(100)\n",
    "    heights.append(newl)\n",
    "heights.append([100]*(len(lines[0])+2))"
   ]
  },
  {
   "cell_type": "code",
   "execution_count": 170,
   "metadata": {},
   "outputs": [],
   "source": [
    "x = [-1,0,1]\n",
    "count = 1\n",
    "while(True):\n",
    "    q = collections.deque()\n",
    "    visited = dict()\n",
    "    for i in range(1,len(heights)-1):\n",
    "        for j in range(1,len(heights[0])-1):\n",
    "            heights[i][j] += 1\n",
    "            if heights[i][j] > 9:\n",
    "                visited[(i,j)] = True\n",
    "                heights[i][j] = 0\n",
    "                q.appendleft((i,j))\n",
    "    while len(q) != 0:\n",
    "        v = q.pop()\n",
    "        i = v[0]\n",
    "        j = v[1]\n",
    "        for a in x:\n",
    "            for b in x:\n",
    "                if (not a and not b) or (i+a,j+b) in visited:\n",
    "                    continue\n",
    "                heights[i+a][j+b] += 1\n",
    "                if heights[i+a][j+b] > 9 and heights[i+a][j+b] < 20:\n",
    "                    heights[i+a][j+b] = 0 \n",
    "                    visited[(i+a,j+b)] = True\n",
    "                    q.appendleft((i+a,j+b))\n",
    "    if len(visited) == 100:\n",
    "        break\n",
    "    count+=1\n",
    "        "
   ]
  },
  {
   "cell_type": "code",
   "execution_count": 171,
   "metadata": {},
   "outputs": [
    {
     "name": "stdout",
     "output_type": "stream",
     "text": [
      "     0    1    2    3    4    5    6    7    8    9    10   11\n",
      "0   152  205  261  267  274  278  280  274  267  259  205  152\n",
      "1   206    0    0    0    0    0    0    0    0    0    0  205\n",
      "2   262    0    0    0    0    0    0    0    0    0    0  258\n",
      "3   268    0    0    0    0    0    0    0    0    0    0  265\n",
      "4   273    0    0    0    0    0    0    0    0    0    0  267\n",
      "5   275    0    0    0    0    0    0    0    0    0    0  269\n",
      "6   273    0    0    0    0    0    0    0    0    0    0  264\n",
      "7   267    0    0    0    0    0    0    0    0    0    0  263\n",
      "8   262    0    0    0    0    0    0    0    0    0    0  261\n",
      "9   258    0    0    0    0    0    0    0    0    0    0  259\n",
      "10  205    0    0    0    0    0    0    0    0    0    0  205\n",
      "11  152  205  258  261  263  265  264  264  262  260  205  152\n"
     ]
    }
   ],
   "source": [
    "import pandas\n",
    "print(pandas.DataFrame(heights))\n"
   ]
  },
  {
   "cell_type": "code",
   "execution_count": 172,
   "metadata": {},
   "outputs": [
    {
     "data": {
      "text/plain": [
       "364"
      ]
     },
     "execution_count": 172,
     "metadata": {},
     "output_type": "execute_result"
    }
   ],
   "source": [
    "count"
   ]
  },
  {
   "cell_type": "code",
   "execution_count": null,
   "metadata": {},
   "outputs": [],
   "source": []
  }
 ],
 "metadata": {
  "interpreter": {
   "hash": "63fd5069d213b44bf678585dea6b12cceca9941eaf7f819626cde1f2670de90d"
  },
  "kernelspec": {
   "display_name": "Python 3.9.0 64-bit",
   "language": "python",
   "name": "python3"
  },
  "language_info": {
   "codemirror_mode": {
    "name": "ipython",
    "version": 3
   },
   "file_extension": ".py",
   "mimetype": "text/x-python",
   "name": "python",
   "nbconvert_exporter": "python",
   "pygments_lexer": "ipython3",
   "version": "3.9.0"
  },
  "orig_nbformat": 4
 },
 "nbformat": 4,
 "nbformat_minor": 2
}

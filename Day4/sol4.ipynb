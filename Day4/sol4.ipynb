{
 "cells": [
  {
   "cell_type": "code",
   "execution_count": 188,
   "metadata": {},
   "outputs": [],
   "source": [
    "import pandas as pd"
   ]
  },
  {
   "cell_type": "code",
   "execution_count": 189,
   "metadata": {},
   "outputs": [],
   "source": [
    "with open(\"input.txt\") as f:\n",
    "    lines = f.readlines()\n",
    "    lines = [i.strip('\\n') for i in lines]"
   ]
  },
  {
   "cell_type": "code",
   "execution_count": 190,
   "metadata": {},
   "outputs": [],
   "source": [
    "inputs = lines[0].split(\",\")\n",
    "boards = []\n",
    "linenum = 2\n",
    "dim=5\n",
    "while linenum < len(lines):\n",
    "    board = []\n",
    "    for i in range(dim):\n",
    "        board.append(lines[linenum].split())\n",
    "        linenum +=1\n",
    "    boards.append(board)\n",
    "    linenum +=1        \n"
   ]
  },
  {
   "cell_type": "code",
   "execution_count": 191,
   "metadata": {},
   "outputs": [],
   "source": [
    "nums = {}\n",
    "for b in range(len(boards)):\n",
    "    board = boards[b]\n",
    "    for i in range(dim):\n",
    "        for j in range(dim):\n",
    "            if board[i][j] not in nums:\n",
    "                nums[board[i][j]] = [(i,j,b)]\n",
    "            else:\n",
    "                nums[board[i][j]].append((i,j,b))"
   ]
  },
  {
   "cell_type": "code",
   "execution_count": 192,
   "metadata": {},
   "outputs": [],
   "source": [
    "def sumNotMarked(board):\n",
    "    print(board)\n",
    "    x = [int(item) for row in board for item in row]\n",
    "    return sum(filter(lambda x: x != -1, x))\n",
    "def checkbingo(board, i, j):\n",
    "    for x in range(dim):\n",
    "        if board[x][j] != -1:\n",
    "            break\n",
    "        if x == dim-1: \n",
    "            return 1\n",
    "    for y in range(dim):\n",
    "        if board[i][y] != -1:\n",
    "            break\n",
    "        if y == dim-1: \n",
    "            return 1\n",
    "    return -1"
   ]
  },
  {
   "cell_type": "code",
   "execution_count": 193,
   "metadata": {},
   "outputs": [
    {
     "name": "stdout",
     "output_type": "stream",
     "text": [
      "[['87', -1, -1, -1, -1], [-1, -1, -1, -1, -1], [-1, -1, '5', -1, -1], [-1, -1, -1, -1, '71'], [-1, '63', -1, '76', -1]]\n",
      "26878\n",
      "[[-1, -1, -1, -1, -1], [-1, -1, -1, -1, -1], [-1, -1, '5', -1, -1], [-1, -1, -1, -1, '71'], [-1, '63', -1, '76', -1]]\n",
      "18705\n",
      "[[-1, -1, -1, -1, -1], [-1, -1, -1, -1, -1], [-1, -1, '5', -1, -1], [-1, -1, -1, -1, -1], [-1, '63', -1, '76', -1]]\n",
      "10224\n",
      "[[-1, -1, -1, -1, -1], [-1, -1, -1, -1, -1], [-1, -1, '5', -1, -1], [-1, -1, -1, -1, -1], [-1, '63', -1, -1, -1]]\n",
      "5168\n",
      "[[-1, -1, -1, -1, -1], [-1, -1, -1, -1, -1], [-1, -1, -1, -1, -1], [-1, -1, -1, -1, -1], [-1, '63', -1, -1, -1]]\n",
      "315\n",
      "[[-1, -1, -1, -1, -1], [-1, -1, -1, -1, -1], [-1, -1, -1, -1, -1], [-1, -1, -1, -1, -1], [-1, -1, -1, -1, -1]]\n",
      "0\n"
     ]
    }
   ],
   "source": [
    "consider = set([i for i in range(len(boards))])\n",
    "for i in inputs:\n",
    "    for j in nums[i]:\n",
    "        if j[2] not in consider:\n",
    "            continue\n",
    "        boards[j[2]][j[0]][j[1]] = -1\n",
    "        val = checkbingo(boards[j[2]], j[0], j[1])\n",
    "        if val >= 0:\n",
    "            if len(consider) == 1:\n",
    "                print(int(i)*sumNotMarked(boards[j[2]]))\n",
    "            else:\n",
    "                consider.remove(j[2])"
   ]
  },
  {
   "cell_type": "code",
   "execution_count": null,
   "metadata": {},
   "outputs": [],
   "source": []
  }
 ],
 "metadata": {
  "interpreter": {
   "hash": "63fd5069d213b44bf678585dea6b12cceca9941eaf7f819626cde1f2670de90d"
  },
  "kernelspec": {
   "display_name": "Python 3.9.0 64-bit",
   "language": "python",
   "name": "python3"
  },
  "language_info": {
   "codemirror_mode": {
    "name": "ipython",
    "version": 3
   },
   "file_extension": ".py",
   "mimetype": "text/x-python",
   "name": "python",
   "nbconvert_exporter": "python",
   "pygments_lexer": "ipython3",
   "version": "3.9.0"
  },
  "orig_nbformat": 4
 },
 "nbformat": 4,
 "nbformat_minor": 2
}

{
 "cells": [
  {
   "cell_type": "code",
   "execution_count": 153,
   "metadata": {},
   "outputs": [],
   "source": [
    "import statistics"
   ]
  },
  {
   "cell_type": "code",
   "execution_count": 154,
   "metadata": {},
   "outputs": [],
   "source": [
    "with open(\"input.txt\") as f:\n",
    "    lines = f.readlines()\n",
    "    lines = [i.strip('\\n') for i in lines]"
   ]
  },
  {
   "cell_type": "code",
   "execution_count": 155,
   "metadata": {},
   "outputs": [
    {
     "data": {
      "text/plain": [
       "519"
      ]
     },
     "execution_count": 155,
     "metadata": {},
     "output_type": "execute_result"
    }
   ],
   "source": [
    "count = 0\n",
    "for i in range(len(lines)):\n",
    "    count += len(list(filter(lambda x: len(x) in [2,4,3,7], lines[i].split(\"|\")[1].split())))\n",
    "count"
   ]
  },
  {
   "cell_type": "code",
   "execution_count": 156,
   "metadata": {},
   "outputs": [],
   "source": [
    "def deduce(input):\n",
    "    input = {\"\".join(sorted(i)):set(i) for i in input.split()}\n",
    "    dic1 = dict() #blurb to int\n",
    "    dic2 = dict() #int to blurb\n",
    "    for i in input.keys():\n",
    "        if len(i)==2:\n",
    "            dic1[i] = 1\n",
    "            dic2[1] = i\n",
    "        elif len(i)==4:\n",
    "            dic1[i] = 4\n",
    "            dic2[4] = i\n",
    "        elif len(i) == 3:\n",
    "            dic1[i] = 7\n",
    "            dic2[7] = i\n",
    "        elif len(i) == 7:\n",
    "            dic1[i] = 8\n",
    "            dic2[8] = i\n",
    "    for i in input.keys():\n",
    "        if len(i) == 6 and len(input[i].intersection(input[dic2[4]])) == 4 and len(input[i].intersection(input[dic2[1]])) == 2:\n",
    "            dic1[i] = 9\n",
    "            dic2[9] = i\n",
    "        elif len(i) == 6 and len(input[i].intersection(input[dic2[4]])) == 3 and len(input[i].intersection(input[dic2[1]])) == 2:\n",
    "            dic1[i] = 0\n",
    "            dic2[0] = i\n",
    "        elif len(i) == 6 and len(input[i].intersection(input[dic2[1]])) == 1:\n",
    "            dic1[i] = 6\n",
    "            dic2[6] = i\n",
    "        elif len(i) == 5 and len(input[i].intersection(input[dic2[1]])) == 3:\n",
    "            dic1[i] = 3\n",
    "            dic2[3] = i\n",
    "        elif len(i) == 5 and len(input[i].intersection(input[dic2[7]])) == 3:\n",
    "            dic1[i] = 3\n",
    "            dic2[5] = i\n",
    "        elif len(i) == 5 and len(input[i].intersection(input[dic2[4]])) == 2:\n",
    "            dic1[i] = 2\n",
    "            dic2[2] = i\n",
    "        elif len(i) == 5 and len(input[i].intersection(input[dic2[4]])) == 3:\n",
    "            dic1[i] = 5\n",
    "            dic2[5] = i\n",
    "    return dic1"
   ]
  },
  {
   "cell_type": "code",
   "execution_count": 158,
   "metadata": {},
   "outputs": [
    {
     "data": {
      "text/plain": [
       "1027483"
      ]
     },
     "execution_count": 158,
     "metadata": {},
     "output_type": "execute_result"
    }
   ],
   "source": [
    "total = 0\n",
    "for i in range(len(lines)):\n",
    "    input,output = lines[i].split(\"|\")\n",
    "    dic = deduce(input)\n",
    "    output = [str(dic[\"\".join(sorted(i))]) for i in output.split()]\n",
    "    total+=int(\"\".join(output))\n",
    "total"
   ]
  },
  {
   "cell_type": "code",
   "execution_count": null,
   "metadata": {},
   "outputs": [],
   "source": []
  }
 ],
 "metadata": {
  "interpreter": {
   "hash": "63fd5069d213b44bf678585dea6b12cceca9941eaf7f819626cde1f2670de90d"
  },
  "kernelspec": {
   "display_name": "Python 3.9.0 64-bit",
   "language": "python",
   "name": "python3"
  },
  "language_info": {
   "codemirror_mode": {
    "name": "ipython",
    "version": 3
   },
   "file_extension": ".py",
   "mimetype": "text/x-python",
   "name": "python",
   "nbconvert_exporter": "python",
   "pygments_lexer": "ipython3",
   "version": "3.9.0"
  },
  "orig_nbformat": 4
 },
 "nbformat": 4,
 "nbformat_minor": 2
}

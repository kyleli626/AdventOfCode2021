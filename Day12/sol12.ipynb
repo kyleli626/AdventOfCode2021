{
 "cells": [
  {
   "cell_type": "code",
   "execution_count": 1,
   "metadata": {},
   "outputs": [],
   "source": [
    "import collections"
   ]
  },
  {
   "cell_type": "code",
   "execution_count": 2,
   "metadata": {},
   "outputs": [],
   "source": [
    "with open(\"input.txt\") as f:\n",
    "    lines = f.readlines()\n",
    "    lines = [i.strip('\\n') for i in lines]"
   ]
  },
  {
   "cell_type": "code",
   "execution_count": 3,
   "metadata": {},
   "outputs": [],
   "source": [
    "d = collections.defaultdict(list)\n",
    "big = set()\n",
    "\n",
    "for line in lines:\n",
    "    a,b = line.split('-')\n",
    "    if a.isupper():\n",
    "        big.add(a)\n",
    "    if b.isupper():\n",
    "        big.add(b)\n",
    "    d[a].append(b)\n",
    "    d[b].append(a)"
   ]
  },
  {
   "cell_type": "code",
   "execution_count": 4,
   "metadata": {},
   "outputs": [],
   "source": [
    "visited = set(['start'])\n",
    "def recurse(node):\n",
    "    if node == 'end':\n",
    "        return 1\n",
    "    count = 0\n",
    "    for i in d[node]:\n",
    "        if i in visited:\n",
    "            continue\n",
    "        if i in big:\n",
    "            count += recurse(i)\n",
    "        else:\n",
    "            visited.add(i)\n",
    "            count += recurse(i)\n",
    "            visited.remove(i)\n",
    "    return count"
   ]
  },
  {
   "cell_type": "code",
   "execution_count": 5,
   "metadata": {},
   "outputs": [
    {
     "data": {
      "text/plain": [
       "3497"
      ]
     },
     "execution_count": 5,
     "metadata": {},
     "output_type": "execute_result"
    }
   ],
   "source": [
    "recurse('start')"
   ]
  },
  {
   "cell_type": "code",
   "execution_count": 6,
   "metadata": {},
   "outputs": [],
   "source": [
    "#part2\n",
    "visited = set(['start'])\n",
    "def recurse2(node,used):\n",
    "    if node == 'end':\n",
    "        return 1\n",
    "    count = 0\n",
    "    for i in d[node]:\n",
    "        if i in visited:\n",
    "            if used and i != 'start':\n",
    "                count += recurse2(i, False)\n",
    "            continue\n",
    "        if i in big:\n",
    "            count += recurse2(i,used)\n",
    "        else:\n",
    "            visited.add(i)\n",
    "            count += recurse2(i,used)\n",
    "            visited.remove(i)\n",
    "    return count"
   ]
  },
  {
   "cell_type": "code",
   "execution_count": 7,
   "metadata": {},
   "outputs": [
    {
     "data": {
      "text/plain": [
       "93686"
      ]
     },
     "execution_count": 7,
     "metadata": {},
     "output_type": "execute_result"
    }
   ],
   "source": [
    "recurse2('start',True)"
   ]
  }
 ],
 "metadata": {
  "interpreter": {
   "hash": "63fd5069d213b44bf678585dea6b12cceca9941eaf7f819626cde1f2670de90d"
  },
  "kernelspec": {
   "display_name": "Python 3.9.0 64-bit",
   "language": "python",
   "name": "python3"
  },
  "language_info": {
   "codemirror_mode": {
    "name": "ipython",
    "version": 3
   },
   "file_extension": ".py",
   "mimetype": "text/x-python",
   "name": "python",
   "nbconvert_exporter": "python",
   "pygments_lexer": "ipython3",
   "version": "3.9.0"
  },
  "orig_nbformat": 4
 },
 "nbformat": 4,
 "nbformat_minor": 2
}
